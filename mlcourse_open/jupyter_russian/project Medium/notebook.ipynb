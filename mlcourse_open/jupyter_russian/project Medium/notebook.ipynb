{
 "cells": [
  {
   "cell_type": "markdown",
   "metadata": {
    "_cell_guid": "10375e63-c7e4-4384-9521-1c5f20906eae",
    "_uuid": "889e971a7c32a4ac1dbc4ef55df672ab0f1ac9be",
    "deletable": true,
    "editable": true
   },
   "source": [
    "Import libraries."
   ]
  },
  {
   "cell_type": "code",
   "execution_count": 5,
   "metadata": {
    "_cell_guid": "475f15a1-214d-4b48-b315-cdfa71c20c50",
    "_uuid": "7e5b949eafbf62826c6f02c39fdb55178d66fabd",
    "collapsed": true,
    "deletable": true,
    "editable": true
   },
   "outputs": [],
   "source": [
    "import os\n",
    "import numpy as np\n",
    "import pandas as pd\n",
    "from matplotlib import pyplot as plt\n",
    "%matplotlib inline\n",
    "import json\n",
    "from tqdm import tqdm_notebook\n",
    "from sklearn.feature_extraction.text import CountVectorizer\n",
    "from sklearn.metrics import mean_absolute_error"
   ]
  },
  {
   "cell_type": "markdown",
   "metadata": {
    "_cell_guid": "2c1f42b4-423a-4ea6-a3a8-e783d1e10fda",
    "_uuid": "cf2daf1d4628d1f996e5c6180d3ee49bdbc8488f",
    "deletable": true,
    "editable": true
   },
   "source": [
    "The following code will help to throw away all HTML tags from an article content."
   ]
  },
  {
   "cell_type": "code",
   "execution_count": 8,
   "metadata": {
    "_cell_guid": "37ad2332-3111-4983-a6aa-0961aeb6ae02",
    "_uuid": "e64bf63dbe42583a5080d31e19d7d283a6bc0c68",
    "collapsed": false,
    "deletable": true,
    "editable": true
   },
   "outputs": [],
   "source": [
    "from HTMLParser import HTMLParser\n",
    "\n",
    "class MLStripper(HTMLParser):\n",
    "    def __init__(self):\n",
    "        self.reset()\n",
    "        self.strict = False\n",
    "        self.convert_charrefs= True\n",
    "        self.fed = []\n",
    "    def handle_data(self, d):\n",
    "        self.fed.append(d)\n",
    "    def get_data(self):\n",
    "        return ''.join(self.fed)\n",
    "\n",
    "def strip_tags(html):\n",
    "    s = MLStripper()\n",
    "    s.feed(html)\n",
    "    return s.get_data()"
   ]
  },
  {
   "cell_type": "code",
   "execution_count": 9,
   "metadata": {
    "_cell_guid": "9051d077-6739-4fe2-83a5-6628f4833cbf",
    "_uuid": "dfeac755772fd66636d84221a80501754fe3dfbf",
    "collapsed": true,
    "deletable": true,
    "editable": true
   },
   "outputs": [],
   "source": [
    "PATH_TO_DATA = ''"
   ]
  },
  {
   "cell_type": "markdown",
   "metadata": {
    "_cell_guid": "60c7c92c-c387-4c1a-b272-fc36f85b0cef",
    "_uuid": "af961104abccccf1dff5638b7e97c474f56e51b8",
    "deletable": true,
    "editable": true
   },
   "source": [
    "Assume you have all data downloaded from competition's [page](https://www.kaggle.com/c/how-good-is-your-medium-article/data) in the PATH_TO_DATA folder and `.gz` files are ungzipped."
   ]
  },
  {
   "cell_type": "code",
   "execution_count": 10,
   "metadata": {
    "_cell_guid": "b6b85182-8ca8-4144-91ef-ceb472ce2518",
    "_uuid": "75ca681a11b040c9f5b3b38e37a9f99351ecf278",
    "collapsed": false,
    "deletable": true,
    "editable": true
   },
   "outputs": [
    {
     "name": "stdout",
     "output_type": "stream",
     "text": [
      "итого 3167144\r\n",
      "-rw-rw-r-- 1 danil danil      20033 мар 26 17:14 notebook.ipynb\r\n",
      "-rw-rw-r-- 1 danil danil 1156020029 мар 26 17:07 test.json\r\n",
      "-rw-rw-r-- 1 danil danil 2086185062 мар 26 17:02 train.json\r\n",
      "-rw-rw-r-- 1 danil danil     912544 мар 26 17:01 train_log1p_recommends.csv\r\n"
     ]
    }
   ],
   "source": [
    "!ls -l $PATH_TO_DATA"
   ]
  },
  {
   "cell_type": "markdown",
   "metadata": {
    "_cell_guid": "8aa113b4-f062-46c2-ac90-c859a064226d",
    "_uuid": "5da5e0f993dc5bbd06d291c3fc1953aba470546e",
    "deletable": true,
    "editable": true
   },
   "source": [
    "Supplementary function to read a JSON line without crashing on escape characters. "
   ]
  },
  {
   "cell_type": "code",
   "execution_count": 11,
   "metadata": {
    "_cell_guid": "badfb2bc-1f36-4311-a6aa-6452380e7e40",
    "_uuid": "bc1b8f0ecfba589b0714b9014fac3329793a2421",
    "collapsed": true,
    "deletable": true,
    "editable": true
   },
   "outputs": [],
   "source": [
    "def read_json_line(line=None):\n",
    "    result = None\n",
    "    try:        \n",
    "        result = json.loads(line)\n",
    "    except Exception as e:      \n",
    "        # Find the offending character index:\n",
    "        idx_to_replace = int(str(e).split(' ')[-1].replace(')',''))      \n",
    "        # Remove the offending character:\n",
    "        new_line = list(line)\n",
    "        new_line[idx_to_replace] = ' '\n",
    "        new_line = ''.join(new_line)     \n",
    "        return read_json_line(line=new_line)\n",
    "    return result"
   ]
  },
  {
   "cell_type": "markdown",
   "metadata": {
    "_cell_guid": "4b78878e-b4f2-4a45-8be3-f789b3c3f221",
    "_uuid": "8ae68965cee9dfb58f88370e6a079ec4b2306e10",
    "deletable": true,
    "editable": true
   },
   "source": [
    "This function takes a JSON and forms a txt file leaving only article content. When you resort to feature engineering and extract various features from articles, a good idea is to modify this function."
   ]
  },
  {
   "cell_type": "code",
   "execution_count": 14,
   "metadata": {
    "_cell_guid": "324441ce-e666-44c4-838c-acd78f9bfcf5",
    "_uuid": "e0fe7f2fd52b8f91c95cfb78c2af9d8e520cdd60",
    "collapsed": true,
    "deletable": true,
    "editable": true
   },
   "outputs": [],
   "source": [
    "def preprocess(path_to_inp_json_file):\n",
    "    output_list = []\n",
    "    with open(path_to_inp_json_file) as inp_file:\n",
    "        for line in tqdm_notebook(inp_file):\n",
    "            json_data = read_json_line(line)\n",
    "            content = json_data['content'].replace('\\n', ' ').replace('\\r', ' ')\n",
    "            content_no_html_tags = strip_tags(content)\n",
    "            output_list.append(content_no_html_tags)\n",
    "    return output_list"
   ]
  },
  {
   "cell_type": "code",
   "execution_count": 15,
   "metadata": {
    "_cell_guid": "e901af5c-6623-449e-bce1-6e274022460e",
    "_uuid": "589761bb5972c78dee2694e08d3b94d6666e2bb6",
    "collapsed": false,
    "deletable": true,
    "editable": true
   },
   "outputs": [
    {
     "name": "stderr",
     "output_type": "stream",
     "text": [
      "Widget Javascript not detected.  It may not be installed or enabled properly.\n"
     ]
    },
    {
     "data": {
      "application/vnd.jupyter.widget-view+json": {
       "model_id": "f27abc06a2a54c0dadc0f1cf1df04a48"
      }
     },
     "metadata": {},
     "output_type": "display_data"
    },
    {
     "name": "stdout",
     "output_type": "stream",
     "text": [
      "\n",
      "CPU times: user 4min 37s, sys: 4.9 s, total: 4min 42s\n",
      "Wall time: 4min 39s\n"
     ]
    }
   ],
   "source": [
    "%%time\n",
    "train_raw_content = preprocess(path_to_inp_json_file=os.path.join(PATH_TO_DATA, \n",
    "                                                                  'train.json'),)"
   ]
  },
  {
   "cell_type": "code",
   "execution_count": 16,
   "metadata": {
    "_cell_guid": "9d75d0f6-b866-4c4e-ba3f-edb1201cdadb",
    "_uuid": "9eb05d3d97036388da1e431683c7272c2c203fec",
    "collapsed": false,
    "deletable": true,
    "editable": true
   },
   "outputs": [
    {
     "name": "stderr",
     "output_type": "stream",
     "text": [
      "Widget Javascript not detected.  It may not be installed or enabled properly.\n"
     ]
    },
    {
     "data": {
      "application/vnd.jupyter.widget-view+json": {
       "model_id": "7023208d09154124a3951de278b7969c"
      }
     },
     "metadata": {},
     "output_type": "display_data"
    },
    {
     "name": "stdout",
     "output_type": "stream",
     "text": [
      "\n",
      "CPU times: user 2min 29s, sys: 2.47 s, total: 2min 31s\n",
      "Wall time: 2min 29s\n"
     ]
    }
   ],
   "source": [
    "%%time\n",
    "test_raw_content = preprocess(path_to_inp_json_file=os.path.join(PATH_TO_DATA, \n",
    "                                                                  'test.json'),)"
   ]
  },
  {
   "cell_type": "markdown",
   "metadata": {
    "_cell_guid": "25fef59c-d54f-411c-a9c7-4a675b29a989",
    "_uuid": "de8308666fe1f7e111edb7ae29a8ec5bafea84dd",
    "deletable": true,
    "editable": true
   },
   "source": [
    "We'll use a linear model (`Ridge`) with a very simple feature extractor – `CountVectorizer`, meaning that we resort to the Bag-of-Words approach. For now, we are leaving only 50k features. "
   ]
  },
  {
   "cell_type": "markdown",
   "metadata": {},
   "source": [
    "**pymorphy**"
   ]
  },
  {
   "cell_type": "code",
   "execution_count": 43,
   "metadata": {
    "collapsed": false
   },
   "outputs": [],
   "source": [
    "from pymorphy import get_morph\n",
    "morph = get_morph('/home/danil/GitHub/mlcourse_open/jupyter_russian/project Medium/dict/en')\n",
    "\n",
    "#слова должны быть в юникоде и ЗАГЛАВНЫМИ\n",
    "norm_text=morph.normalize(train_raw_content[1].upper())\n",
    "#https://pythonhosted.org/pymorphy/intro.html#id2"
   ]
  },
  {
   "cell_type": "code",
   "execution_count": 47,
   "metadata": {
    "collapsed": false
   },
   "outputs": [
    {
     "data": {
      "text/plain": [
       "u'MEDIUMEVERYONE\\u2019S STORIES AND IDEASAUG 2, 2015 UNLISTEDAMENDMENT TO MEDIUM TERMS OF SERVICE APPLICABLE TO U.S. GOVERNMENT USERSTHIS AGREEMENT (\\u201cAMENDMENT\\u201d) IS AN AMENDMENT TO MEDIUM\\u2019S TERMS. IT IS BETWEEN MEDIUM AND THE U.S. GOVERNMENT AND APPLIES TO THE USE OF MEDIUM SERVICES BY THE GOVERNMENT.THE REASON FOR THIS AMENDMENT IS THAT, AS A U.S. GOVERNMENT ENTITY (\\u201cYOU\\u201c OR \\u201cAGENCY\\u201d), YOU MUST FOLLOW FEDERAL LAWS AND REGULATIONS WHEN ENTERING INTO A BINDING AGREEMENT SUCH AS MEDIUM\\u2019S TERMS. THE SUBJECTS OF THESE RULES ARE BROAD AND INCLUDE ETHICS, PRIVACY AND SECURITY, ACCESSIBILITY, FEDERAL RECORDS, LIMITATIONS ON INDEMNIFICATION, FISCAL LAW CONSTRAINTS, ADVERTISING AND ENDORSEMENTS, FREEDOM OF INFORMATION, AND THE DETAILS OF HOW DISPUTES ARE RESOLVED.MEDIUM AND YOU (FORMALLY THE \\u201cPARTIES\\u201d) HAVE DECIDED THAT MODIFICATIONS OF MEDIUM\\u2019S STANDARD TERMS, AVAILABLE AT HTTPS://MEDIUM.COM/POLICY/MEDIUM-SERVICE-COMPATIBLE USAGE OF MEDIUM SERVICES. THE CHANGES ARE DESIGNED TO RESPECT YOUR LEGAL STATUS, YOUR PUBLIC MISSION, AND OTHER UNIQUE CIRCUMSTANCES. AND SO THE TERMS ARE MODIFIED BY THIS AMENDMENT, AS FOLLOWS.A. GOVERNMENT ENTITY: WE WANT TO CLEAR UP WHAT \\u201cYOU\\u201d MEANS WITHIN THE TERMS. FOR GOVERNMENT USERS, \\u201cYOU\\u201d MEANS THE AGENCY ITSELF AND WILL NOT APPLY TO NOR BIND THE INDIVIDUALS WHO USE MEDIUM SERVICES ON THE AGENCY\\u2019S BEHALF. INSTEAD, MEDIUM WILL LOOK SOLELY TO THE AGENCY TO ENFORCE ANY VIOLATION OR BREACH OF THE TERMS.B. PUBLIC PURPOSE AND USAGE: THE AGENCY AGREES TO USE MEDIUM SERVICES SOLELY TO FULFILL THE AGENCY\\u2019S PUBLIC PURPOSE. MEDIUM ACKNOWLEDGES YOU MAY USE MEDIUM SERVICES OVERSEAS AND YOU MAY OPEN AND MAINTAIN MORE THAN ONE ACCOUNT. IF MEDIUM WANTS TO PROMOTE YOUR CONTENT WITH PARTNER COMPANIES OR SERVICES FOR BROADER BROADCAST, DISTRIBUTION, OR PUBLICATION, MEDIUM WILL FIRST CONTACT YOU AND MAKE SURE YOU UNDERSTAND AND AGREE TO MEDIUM\\u2019S PLANS.C. ADVERTISEMENTS: MEDIUM IS ALLOWED TO SERVE WHAT ARE COMMONLY KNOWN AS \\u201cHOUSE ADS\\u201d ON YOUR PAGES IN A NON-INTRUSIVE MANNER. MEDIUM DOES NOT CURRENTLY DISPLAY THIRD-PARTY ADVERTISEMENTS, BUT THIS IS SUBJECT TO CHANGE. IF YOU SUBMIT A WRITTEN REQUEST TO MEDIUM TO BLOCK THE DISPLAY OF ANY COMMERCIAL ADVERTISEMENTS, SOLICITATIONS, OR LINKS ON THE AGENCY\\u2019S BOARD, MEDIUM MAY SO AGREE PROVIDED THAT IT HAS DECIDED TO MAKE SUCH BLOCKING TECHNOLOGY GENERALLY AVAILABLE FOR ALL USERS. AGENCY\\u2019S SOLE REMEDY FOR MEDIUM\\u2019S FAILURE TO IMPLEMENT SUCH BLOCKING TECHNOLOGY SHALL BE FOR AGENCY TO TERMINATE ITS MEDIUM ACCOUNT.D. INDEMNIFICATION, LIABILITY, STATUTE OF LIMITATIONS, GOVERNING LAW AND FORUM: THE TITLE OF THIS SECTION LOOKS COMPLICATED YET THE PROPOSITION IS SIMPLE. MEDIUM AGREES THAT ANY PROVISIONS IN THE TERMS RELATED TO LEGAL SUBJECTS\\u200a\\u2014\\u200aSUCH AS INDEMNIFICATION, LIABILITY, DAMAGES, DISPUTE FORUM, FILING DEADLINES, DEFENSE OF LAWSUITS, COLLECTION EXPENSES, ATTORNEYS FEES, AND SETTLEMENT\\u200a\\u2014\\u200aWILL APPLY TO YOU ONLY TO THE EXTENT CONSISTENT WITH FEDERAL LAW. WE EXPECT EVERYTHING TO GO SMOOTHLY, BUT MEDIUM AND YOU AGREE TO PROCEED ON THE UNDERSTANDING THAT THE TERMS WILL BE GOVERNED BY AND INTERPRETED AND ENFORCED IN ACCORDANCE WITH APPLICABLE FEDERAL LAWS OF THE UNITED STATES OF AMERICA, AND JURISDICTION SHALL BE IN FEDERAL FORUMS. TO THE EXTENT PERMITTED UNDER FEDERAL LAW, THE LAWS OF THE STATE OF CALIFORNIA WILL APPLY.E. LIMITATION OF LIABILITY: THE PARTIES DISCLAIM ALL WARRANTIES, EXPRESS OR IMPLIED, INCLUDING ANY WARRANTY OF MERCHANTABILITY OR FITNESS FOR A PARTICULAR PURPOSE. TO THE EXTENT PERMITTED UNDER FEDERAL LAW, NEITHER PARTY WILL BE LIABLE TO THE OTHER FOR INDIRECT, CONSEQUENTIAL, SPECIAL, PUNITIVE, OR EXEMPLARY DAMAGES OR PENALTIES ARISING FROM OR RELATED TO THIS AGREEMENT, AND NEITHER PARTY\\u2019S LIABILITY FOR ANY CAUSE OF ACTION ARISING FROM OR RELATING TO THIS AGREEMENT WILL EXCEED $50,000, EXCEPT THAT WE AGREE THAT NOTHING IN THE LIMITATION OF LIABILITY CLAUSE OR ELSEWHERE IN THE TERMS IN ANY WAY GRANTS MEDIUM A WAIVER FROM, RELEASE OF, OR LIMITATION OF LIABILITY PERTAINING TO, ANY PAST, CURRENT OR FUTURE VIOLATION OF FEDERAL LAW.F. ACCESS AND USE: MEDIUM UNDERSTANDS THAT THE AGENCY\\u2019S USE OF MEDIUM SERVICES MAY ENERGIZE SIGNIFICANT CITIZEN ENGAGEMENT AND OTHERWISE BECOME IMPORTANT TO YOUR PUBLIC MISSION. MEDIUM AGREES, BEFORE TERMINATING YOUR SERVICE, REFUSING OR REMOVING YOUR CONTENT, OR CLOSING YOUR ACCOUNT, TO FIRST NOTIFY YOU OF MEDIUM\\u2019S INTENT AND TO GIVE YOU A REASONABLE OPPORTUNITY TO CURE ANY IDENTIFIED BREACH OR FAILURE, OR OTHERWISE RESOLVE THE MATTER.G. NO ENDORSEMENT: AGENCY\\u2019S TRADEMARKS, TRADE NAMES, DOMAIN NAMES, DESIGNS, LOGOS AND SEALS (\\u201cAGENCY MARKS\\u201d), AGENCY\\u2019S NAME, AND THE FACT THAT YOU HAVE A PRESENCE ON MEDIUM SERVICES, SHALL NOT BE USED TO IMPLY AN ENDORSEMENT, SPONSORSHIP OR PREFERENCE BY AGENCY OR THE FEDERAL GOVERNMENT OF MEDIUM SERVICES. HOWEVER, THE FOREGOING SHALL NOT PROHIBIT MEDIUM FROM USING YOUR NAME OR AGENCY MARKS TO FULFILL MEDIUM\\u2019S OBLIGATIONS UNDER THIS AGREEMENT. MEDIUM MAY ALSO INCLUDE THE AGENCY\\u2019S NAME AND AGENCY MARKS IN PARTNER LISTS AND PRESENTATIONS SOLELY FOR THE PURPOSE OF PROMOTING THE AVAILABILITY OF AGENCY\\u2019S CONTENT ON THE MEDIUM PLATFORM AND ONLY SO LONG AS THE AGENCY NAME AND AGENCY MARKS ARE NOT DISPLAYED IN A MORE PROMINENT FASHION THAN THOSE OF ANY OTHER THIRD PARTY NAME OR MARK. IF YOU EVER HAVE CONCERNS ABOUT OR OBJECTIONS TO OUR USE OF ANY AGENCY MARK, YOU MAY CONTACT US (USING THE \\u201cCONTACT US\\u201d FEATURE IN OUR DEVELOPER PORTAL) AND WE WILL DISCUSS YOUR CONCERNS IN GOOD FAITH. YOU ALWAYS HAVE THE ABILITY TO TERMINATE YOUR MEDIUM ACCOUNT AND, FOLLOWING ANY SUCH WITHDRAWAL, WE WILL STOP USING THE APPLICABLE AGENCY MARKS.H. NO BUSINESS RELATIONSHIP CREATED: YOU AND MEDIUM ARE INDEPENDENT ENTITIES AND NOTHING IN THE TERMS AS MODIFIED BY THIS AMENDMENT CREATES A PARTNERSHIP, JOINT VENTURE, AGENCY, OR EMPLOYER/EMPLOYEE RELATIONSHIP.I. NO COST AGREEMENT: NOTHING IN THE TERMS AS MODIFIED BY THIS AMENDMENT OBLIGATES YOU TO EXPEND APPROPRIATIONS OR INCUR FINANCIAL OBLIGATIONS. THE PARTIES ACKNOWLEDGE AND AGREE THAT NONE OF THE OBLIGATIONS ARISING FROM THE TERMS AS MODIFIED BY THIS AMENDMENT ARE CONTINGENT UPON THE PAYMENT OF FEES BY ONE PARTY TO THE OTHER.J. PAID SERVICES AND AGENCY RESPONSIBILITIES UNDER PAID USAGE PLANS: THE PARTIES AGREE THIS AMENDMENT APPLIES TO THE AGENCY\\u2019S USAGE OF BOTH FREE AND PAID SERVICES THAT MEDIUM MAY OFFER. THE PARTIES UNDERSTAND THAT FEE-BASED SERVICE THAT MEDIUM OR ALTERNATIVE PROVIDERS MAY OFFER NOW OR IN THE FUTURE, THE AGENCY AGREES TO DETERMINE IF IT HAS A NEED FOR THOSE ADDITIONAL SERVICES FOR A FEE, TO CONSIDER THE SERVICE\\u2019S VALUE IN COMPARISON WITH COMPARABLE SERVICES AVAILABLE ELSEWHERE, TO DETERMINE THAT AGENCY FUNDS ARE AVAILABLE FOR PAYMENT, TO PROPERLY USE THE GOVERNMENT PURCHASE CARD IF IT IS USED AS THE PAYMENT METHOD, TO REVIEW ANY THEN-GENERATED CONTENT THAT IS PUBLICLY VISIBLE ON THE SITE. DATA WILL BE PROVIDED IN A COMMONLY USED FILE OR DATABASE FORMAT AS MEDIUM DEEMS APPROPRIATE. MEDIUM WILL NOT PROVIDE DATA IF DOING SO WOULD VIOLATE ITS PRIVACY POLICY HTTPS://MEDIUM.COM/POLICY/MEDIUM-F03BF92035C9.N. SECURITY: SECURITY IS IMPORTANT TO MEDIUM; PLEASE REFER TO OUR TERMS OF SERVICE FOR INFORMATION ABOUT OUR SECURITY PRACTICES. RECOGNIZING THE CHANGING NATURE OF THE WEB, MEDIUM WILL CONTINUOUSLY WORK WITH USERS TO ENSURE THAT ITS SITE AND SERVICES MEET USERS\\u2019 REQUIREMENTS FOR THE SECURITY OF SYSTEMS AND DATA. MEDIUM AGREES TO DISCUSS IMPLEMENTING ADDITIONAL SECURITY CONTROLS AS DEEMED NECESSARY BY THE AGENCY TO CONFORM TO THE FEDERAL INFORMATION SECURITY MANAGEMENT ACT (FISMA), 44 U.S.C. 3541 ET SEQ.O. FEDERAL RECORDS: THE AGENCY ACKNOWLEDGES THAT USE OF MEDIUM SERVICES MAY REQUIRE MANAGEMENT OF FEDERAL RECORDS. IF MEDIUM HOLDS FEDERAL RECORDS, THE AGENCY AND MEDIUM MUST DISCUSS THE PROPER CARE OF FEDERAL RECORDS IN ACCORDANCE WITH APPLICABLE RECORDS MANAGEMENT LAWS AND REGULATIONS, INCLUDING THE FEDERAL RECORDS ACT (44 U.S.C. CHS. 21, 29, 31, 33) AND REGULATIONS OF THE NATIONAL ARCHIVES AND RECORDS ADMINISTRATION (NARA; AT 36 CFR CHAPTER XII SUBCHAPTER B). MANAGING THE RECORDS INCLUDES, BUT IS NOT LIMITED TO, SECURE STORAGE, RETRIEVABILITY, AND PROPER DISPOSITION OF ALL FEDERAL RECORDS INCLUDING TRANSFER OF PERMANENTLY VALUABLE RECORDS TO NARA IN A FORMAT AND MANNER ACCEPTABLE TO NARA AT THE TIME OF TRANSFER. THE AGENCY IS THE PARTY RESPONSIBLE FOR ENSURING THAT ITS USE OF MEDIUM IS COMPLIANT WITH FEDERAL RECORDS MANAGEMENT LAWS AND REGULATIONS.P. PRECEDENCE; FURTHER AMENDMENTS: IF THERE IS ANY CONFLICT BETWEEN THIS AMENDMENT AND THE TERMS, OR BETWEEN THIS AMENDMENT AND OTHER TERMS, RULES OR POLICIES ON THE MEDIUM SITE OR RELATED TO ITS SERVICES, THIS AMENDMENT SHALL PREVAIL. ANY FURTHER AMENDMENT MUST BE AGREED TO IN WRITING BY BOTH PARTIES. CURRENT AND FUTURE FEDERAL LAW, REGULATION AND POLICY MAY AFFECT THE AGENCY\\u2019S USE OF MEDIUM SERVICES IN WAYS NOT YET ADDRESSED BY US. AMONG THE TOPICS THE AGENCY MAY NEED TO DISCUSS WITH MEDIUM, AND WHICH MAY LEAD TO A MUTUAL AGREEMENT TO UPDATE THIS AMENDMENT, ARE PRIVACY AND ACCESSIBILITY.Q. POSTING OF AMENDMENT: THIS AMENDMENT SHALL BE POSTED WITH MEDIUM\\u2019S ONLINE TERMS EITHER BY INCORPORATION OF ITS TEXT OR VIA AN INTEGRAL LINK. UNLISTED PUBLIC DOMAIN. ONE CLAP, TWO CLAP, THREE CLAP, FORTY?BY CLAPPING MORE OR LESS, YOU CAN SIGNAL TO US WHICH STORIES REALLY STAND OUT.MEDIUMMEDIUM MEMBER SINCE AUG 2017EVERYONE\\u2019S STORIES AND IDEASMEDIUM POLICYTHE FINE PRINT'"
      ]
     },
     "execution_count": 47,
     "metadata": {},
     "output_type": "execute_result"
    }
   ],
   "source": [
    "list(norm_text)[0]"
   ]
  },
  {
   "cell_type": "code",
   "execution_count": 39,
   "metadata": {
    "collapsed": false
   },
   "outputs": [
    {
     "data": {
      "text/plain": [
       "u'MEDIUMEVERYONE\\u2019S STORIES AND IDEASAUG 2, 2015 UNLISTEDAMENDMENT TO MEDIUM TERMS OF SERVICE APPLICABLE TO U.S. GOVERNMENT USERSTHIS AGREEMENT (\\u201cAMENDMENT\\u201d) IS AN AMENDMENT TO MEDIUM\\u2019S TERMS. IT IS BETWEEN MEDIUM AND THE U.S. GOVERNMENT AND APPLIES TO THE USE OF MEDIUM SERVICES BY THE GOVERNMENT.THE REASON FOR THIS AMENDMENT IS THAT, AS A U.S. GOVERNMENT ENTITY (\\u201cYOU\\u201c OR \\u201cAGENCY\\u201d), YOU MUST FOLLOW FEDERAL LAWS AND REGULATIONS WHEN ENTERING INTO A BINDING AGREEMENT SUCH AS MEDIUM\\u2019S TERMS. THE SUBJECTS OF THESE RULES ARE BROAD AND INCLUDE ETHICS, PRIVACY AND SECURITY, ACCESSIBILITY, FEDERAL RECORDS, LIMITATIONS ON INDEMNIFICATION, FISCAL LAW CONSTRAINTS, ADVERTISING AND ENDORSEMENTS, FREEDOM OF INFORMATION, AND THE DETAILS OF HOW DISPUTES ARE RESOLVED.MEDIUM AND YOU (FORMALLY THE \\u201cPARTIES\\u201d) HAVE DECIDED THAT MODIFICATIONS OF MEDIUM\\u2019S STANDARD TERMS, AVAILABLE AT HTTPS://MEDIUM.COM/POLICY/MEDIUM-TERMS-OF-SERVICE-9DB0094A1E0F, ARE APPROPRIATE TO ALLOW FOR FEDERAL-COMPATIBLE USAGE OF MEDIUM SERVICES. THE CHANGES ARE DESIGNED TO RESPECT YOUR LEGAL STATUS, YOUR PUBLIC MISSION, AND OTHER UNIQUE CIRCUMSTANCES. AND SO THE TERMS ARE MODIFIED BY THIS AMENDMENT, AS FOLLOWS.A. GOVERNMENT ENTITY: WE WANT TO CLEAR UP WHAT \\u201cYOU\\u201d MEANS WITHIN THE TERMS. FOR GOVERNMENT USERS, \\u201cYOU\\u201d MEANS THE AGENCY ITSELF AND WILL NOT APPLY TO NOR BIND THE INDIVIDUALS WHO USE MEDIUM SERVICES ON THE AGENCY\\u2019S BEHALF. INSTEAD, MEDIUM WILL LOOK SOLELY TO THE AGENCY TO ENFORCE ANY VIOLATION OR BREACH OF THE TERMS.B. PUBLIC PURPOSE AND USAGE: THE AGENCY AGREES TO USE MEDIUM SERVICES SOLELY TO FULFILL THE AGENCY\\u2019S PUBLIC PURPOSE. MEDIUM ACKNOWLEDGES YOU MAY USE MEDIUM SERVICES OVERSEAS AND YOU MAY OPEN AND MAINTAIN MORE THAN ONE ACCOUNT. IF MEDIUM WANTS TO PROMOTE YOUR CONTENT WITH PARTNER COMPANIES OR SERVICES FOR BROADER BROADCAST, DISTRIBUTION, OR PUBLICATION, MEDIUM WILL FIRST CONTACT YOU AND MAKE SURE YOU UNDERSTAND AND AGREE TO MEDIUM\\u2019S PLANS.C. ADVERTISEMENTS: MEDIUM IS ALLOWED TO SERVE WHAT ARE COMMONLY KNOWN AS \\u201cHOUSE ADS\\u201d ON YOUR PAGES IN A NON-INTRUSIVE MANNER. MEDIUM DOES NOT CURRENTLY DISPLAY THIRD-PARTY ADVERTISEMENTS, BUT THIS IS SUBJECT TO CHANGE. IF YOU SUBMIT A WRITTEN REQUEST TO MEDIUM TO BLOCK THE DISPLAY OF ANY COMMERCIAL ADVERTISEMENTS, SOLICITATIONS, OR LINKS ON THE AGENCY\\u2019S BOARD, MEDIUM MAY SO AGREE PROVIDED THAT IT HAS DECIDED TO MAKE SUCH BLOCKING TECHNOLOGY GENERALLY AVAILABLE FOR ALL USERS. AGENCY\\u2019S SOLE REMEDY FOR MEDIUM\\u2019S FAILURE TO IMPLEMENT SUCH BLOCKING TECHNOLOGY SHALL BE FOR AGENCY TO TERMINATE ITS MEDIUM ACCOUNT.D. INDEMNIFICATION, LIABILITY, STATUTE OF LIMITATIONS, GOVERNING LAW AND FORUM: THE TITLE OF THIS SECTION LOOKS COMPLICATED YET THE PROPOSITION IS SIMPLE. MEDIUM AGREES THAT ANY PROVISIONS IN THE TERMS RELATED TO LEGAL SUBJECTS\\u200a\\u2014\\u200aSUCH AS INDEMNIFICATION, LIABILITY, DAMAGES, DISPUTE FORUM, FILING DEADLINES, DEFENSE OF LAWSUITS, COLLECTION EXPENSES, ATTORNEYS FEES, AND SETTLEMENT\\u200a\\u2014\\u200aWILL APPLY TO YOU ONLY TO THE EXTENT CONSISTENT WITH FEDERAL LAW. WE EXPECT EVERYTHING TO GO SMOOTHLY, BUT MEDIUM AND YOU AGREE TO PROCEED ON THE UNDERSTANDING THAT THE TERMS WILL BE GOVERNED BY AND INTERPRETED AND ENFORCED IN ACCORDANCE WITH APPLICABLE FEDERAL LAWS OF THE UNITED STATES OF AMERICA, AND JURISDICTION SHALL BE IN FEDERAL FORUMS. TO THE EXTENT PERMITTED UNDER FEDERAL LAW, THE LAWS OF THE STATE OF CALIFORNIA WILL APPLY.E. LIMITATION OF LIABILITY: THE PARTIES DISCLAIM ALL WARRANTIES, EXPRESS OR IMPLIED, INCLUDING ANY WARRANTY OF MERCHANTABILITY OR FITNESS FOR A PARTICULAR PURPOSE. TO THE EXTENT PERMITTED UNDER FEDERAL LAW, NEITHER PARTY WILL BE LIABLE TO THE OTHER FOR INDIRECT, CONSEQUENTIAL, SPECIAL, PUNITIVE, OR EXEMPLARY DAMAGES OR PENALTIES ARISING FROM OR RELATED TO THIS AGREEMENT, AND NEITHER PARTY\\u2019S LIABILITY FOR ANY CAUSE OF ACTION ARISING FROM OR RELATING TO THIS AGREEMENT WILL EXCEED $50,000, EXCEPT THAT WE AGREE THAT NOTHING IN THE LIMITATION OF LIABILITY CLAUSE OR ELSEWHERE IN THE TERMS IN ANY WAY GRANTS MEDIUM A WAIVER FROM, RELEASE OF, OR LIMITATION OF LIABILITY PERTAINING TO, ANY PAST, CURRENT OR FUTURE VIOLATION OF FEDERAL LAW.F. ACCESS AND USE: MEDIUM UNDERSTANDS THAT THE AGENCY\\u2019S USE OF MEDIUM SERVICES MAY ENERGIZE SIGNIFICANT CITIZEN ENGAGEMENT AND OTHERWISE BECOME IMPORTANT TO YOUR PUBLIC MISSION. MEDIUM AGREES, BEFORE TERMINATING YOUR SERVICE, REFUSING OR REMOVING YOUR CONTENT, OR CLOSING YOUR ACCOUNT, TO FIRST NOTIFY YOU OF MEDIUM\\u2019S INTENT AND TO GIVE YOU A REASONABLE OPPORTUNITY TO CURE ANY IDENTIFIED BREACH OR FAILURE, OR OTHERWISE RESOLVE THE MATTER.G. NO ENDORSEMENT: AGENCY\\u2019S TRADEMARKS, TRADE NAMES, DOMAIN NAMES, DESIGNS, LOGOS AND SEALS (\\u201cAGENCY MARKS\\u201d), AGENCY\\u2019S NAME, AND THE FACT THAT YOU HAVE A PRESENCE ON MEDIUM SERVICES, SHALL NOT BE USED TO IMPLY AN ENDORSEMENT, SPONSORSHIP OR PREFERENCE BY AGENCY OR THE FEDERAL GOVERNMENT OF MEDIUM SERVICES. HOWEVER, THE FOREGOING SHALL NOT PROHIBIT MEDIUM FROM USING YOUR NAME OR AGENCY MARKS TO FULFILL MEDIUM\\u2019S OBLIGATIONS UNDER THIS AGREEMENT. MEDIUM MAY ALSO INCLUDE THE AGENCY\\u2019S NAME AND AGENCY MARKS IN PARTNER LISTS AND PRESENTATIONS SOLELY FOR THE PURPOSE OF PROMOTING THE AVAILABILITY OF AGENCY\\u2019S CONTENT ON THE MEDIUM PLATFORM AND ONLY SO LONG AS THE AGENCY NAME AND AGENCY MARKS ARE NOT DISPLAYED IN A MORE PROMINENT FASHION THAN THOSE OF ANY OTHER THIRD PARTY NAME OR MARK. IF YOU EVER HAVE CONCERNS ABOUT OR OBJECTIONS TO OUR USE OF ANY AGENCY MARK, YOU MAY CONTACT US (USING THE \\u201cCONTACT US\\u201d FEATURE IN OUR DEVELOPER PORTAL) AND WE WILL DISCUSS YOUR CONCERNS IN GOOD FAITH. YOU ALWAYS HAVE THE ABILITY TO TERMINATE YOUR MEDIUM ACCOUNT AND, FOLLOWING ANY SUCH WITHDRAWAL, WE WILL STOP USING THE APPLICABLE AGENCY MARKS.H. NO BUSINESS RELATIONSHIP CREATED: YOU AND MEDIUM ARE INDEPENDENT ENTITIES AND NOTHING IN THE TERMS AS MODIFIED BY THIS AMENDMENT CREATES A PARTNERSHIP, JOINT VENTURE, AGENCY, OR EMPLOYER/EMPLOYEE RELATIONSHIP.I. NO COST AGREEMENT: NOTHING IN THE TERMS AS MODIFIED BY THIS AMENDMENT OBLIGATES YOU TO EXPEND APPROPRIATIONS OR INCUR FINANCIAL OBLIGATIONS. THE PARTIES ACKNOWLEDGE AND AGREE THAT NONE OF THE OBLIGATIONS ARISING FROM THE TERMS AS MODIFIED BY THIS AMENDMENT ARE CONTINGENT UPON THE PAYMENT OF FEES BY ONE PARTY TO THE OTHER.J. PAID SERVICES AND AGENCY RESPONSIBILITIES UNDER PAID USAGE PLANS: THE PARTIES AGREE THIS AMENDMENT APPLIES TO THE AGENCY\\u2019S USAGE OF BOTH FREE AND PAID SERVICES THAT MEDIUM MAY OFFER. THE PARTIES UNDERSTAND THAT FEE-BASED PRODUCTS AND SERVICES ARE CATEGORICALLY DIFFERENT THAN FREE PRODUCTS AND SERVICES, AND ARE SUBJECT TO FEDERAL PROCUREMENT RULES AND PROCESSES. BEFORE THE AGENCY DECIDES TO ENTER INTO A PREMIUM OR ENTERPRISE SUBSCRIPTION OR ANY OTHER FEE-BASED SERVICE THAT MEDIUM OR ALTERNATIVE PROVIDERS MAY OFFER NOW OR IN THE FUTURE, THE AGENCY AGREES TO DETERMINE IF IT HAS A NEED FOR THOSE ADDITIONAL SERVICES FOR A FEE, TO CONSIDER THE SERVICE\\u2019S VALUE IN COMPARISON WITH COMPARABLE SERVICES AVAILABLE ELSEWHERE, TO DETERMINE THAT AGENCY FUNDS ARE AVAILABLE FOR PAYMENT, TO PROPERLY USE THE GOVERNMENT PURCHASE CARD IF IT IS USED AS THE PAYMENT METHOD, TO REVIEW ANY THEN-APPLICABLE TERMS FOR CONFORMANCE TO FEDERAL PROCUREMENT LAW AND IN ALL OTHER RESPECTS FOLLOW FEDERAL ACQUISITION RULES WHEN MAKING THE ACQUISITION.K. ASSIGNMENT: NEITHER PARTY MAY ASSIGN ITS OBLIGATIONS UNDER THE TERMS AS MODIFIED BY THIS AMENDMENT TO ANY THIRD PARTY WITHOUT PRIOR WRITTEN CONSENT OF THE OTHER. HOWEVER, IF YOU ARE USING MEDIUM\\u2019S FREE SERVICES ONLY, MEDIUM OR ITS SUBSIDIARIES MAY, WITHOUT YOUR CONSENT, ASSIGN THE TERMS AS MODIFIED BY THIS AMENDMENT TO AN AFFILIATE, SUCCESSOR OR ACQUIRER, AS THE CASE MAY BE, IN CONNECTION WITH A MERGER, ACQUISITION, CORPORATE REORGANIZATION OR CONSOLIDATION, OR SALE OF ALL OR SUBSTANTIALLY ALL OF MEDIUM\\u2019S ASSETS.L. TERMINATION RIGHTS: THE AGENCY MAY CLOSE ITS ACCOUNT AND TERMINATE THIS AGREEMENT AT ANY TIME. MEDIUM MAY CLOSE THE AGENCY\\u2019S ACCOUNT AND TERMINATE THIS AGREEMENT ON 30 DAYS WRITTEN NOTICE.M. PROVISION OF DATA: IN CASE OF TERMINATION OF SERVICE, WITHIN 30 DAYS OF SUCH TERMINATION, UPON REQUEST, MEDIUM WILL PROVIDE YOU WITH ALL OF YOUR USER-GENERATED CONTENT THAT IS PUBLICLY VISIBLE ON THE SITE. DATA WILL BE PROVIDED IN A COMMONLY USED FILE OR DATABASE FORMAT AS MEDIUM DEEMS APPROPRIATE. MEDIUM WILL NOT PROVIDE DATA IF DOING SO WOULD VIOLATE ITS PRIVACY POLICY HTTPS://MEDIUM.COM/POLICY/MEDIUM-PRIVACY-POLICY-F03BF92035C9.N. SECURITY: SECURITY IS IMPORTANT TO MEDIUM; PLEASE REFER TO OUR TERMS OF SERVICE FOR INFORMATION ABOUT OUR SECURITY PRACTICES. RECOGNIZING THE CHANGING NATURE OF THE WEB, MEDIUM WILL CONTINUOUSLY WORK WITH USERS TO ENSURE THAT ITS SITE AND SERVICES MEET USERS\\u2019 REQUIREMENTS FOR THE SECURITY OF SYSTEMS AND DATA. MEDIUM AGREES TO DISCUSS IMPLEMENTING ADDITIONAL SECURITY CONTROLS AS DEEMED NECESSARY BY THE AGENCY TO CONFORM TO THE FEDERAL INFORMATION SECURITY MANAGEMENT ACT (FISMA), 44 U.S.C. 3541 ET SEQ.O. FEDERAL RECORDS: THE AGENCY ACKNOWLEDGES THAT USE OF MEDIUM SERVICES MAY REQUIRE MANAGEMENT OF FEDERAL RECORDS. IF MEDIUM HOLDS FEDERAL RECORDS, THE AGENCY AND MEDIUM MUST DISCUSS THE PROPER CARE OF FEDERAL RECORDS IN ACCORDANCE WITH APPLICABLE RECORDS MANAGEMENT LAWS AND REGULATIONS, INCLUDING THE FEDERAL RECORDS ACT (44 U.S.C. CHS. 21, 29, 31, 33) AND REGULATIONS OF THE NATIONAL ARCHIVES AND RECORDS ADMINISTRATION (NARA; AT 36 CFR CHAPTER XII SUBCHAPTER B). MANAGING THE RECORDS INCLUDES, BUT IS NOT LIMITED TO, SECURE STORAGE, RETRIEVABILITY, AND PROPER DISPOSITION OF ALL FEDERAL RECORDS INCLUDING TRANSFER OF PERMANENTLY VALUABLE RECORDS TO NARA IN A FORMAT AND MANNER ACCEPTABLE TO NARA AT THE TIME OF TRANSFER. THE AGENCY IS THE PARTY RESPONSIBLE FOR ENSURING THAT ITS USE OF MEDIUM IS COMPLIANT WITH FEDERAL RECORDS MANAGEMENT LAWS AND REGULATIONS.P. PRECEDENCE; FURTHER AMENDMENTS: IF THERE IS ANY CONFLICT BETWEEN THIS AMENDMENT AND THE TERMS, OR BETWEEN THIS AMENDMENT AND OTHER TERMS, RULES OR POLICIES ON THE MEDIUM SITE OR RELATED TO ITS SERVICES, THIS AMENDMENT SHALL PREVAIL. ANY FURTHER AMENDMENT MUST BE AGREED TO IN WRITING BY BOTH PARTIES. CURRENT AND FUTURE FEDERAL LAW, REGULATION AND POLICY MAY AFFECT THE AGENCY\\u2019S USE OF MEDIUM SERVICES IN WAYS NOT YET ADDRESSED BY US. AMONG THE TOPICS THE AGENCY MAY NEED TO DISCUSS WITH MEDIUM, AND WHICH MAY LEAD TO A MUTUAL AGREEMENT TO UPDATE THIS AMENDMENT, ARE PRIVACY AND ACCESSIBILITY.Q. POSTING OF AMENDMENT: THIS AMENDMENT SHALL BE POSTED WITH MEDIUM\\u2019S ONLINE TERMS EITHER BY INCORPORATION OF ITS TEXT OR VIA AN INTEGRAL LINK. UNLISTED PUBLIC DOMAIN. ONE CLAP, TWO CLAP, THREE CLAP, FORTY?BY CLAPPING MORE OR LESS, YOU CAN SIGNAL TO US WHICH STORIES REALLY STAND OUT.MEDIUMMEDIUM MEMBER SINCE AUG 2017EVERYONE\\u2019S STORIES AND IDEASMEDIUM POLICYTHE FINE PRINT'"
      ]
     },
     "execution_count": 39,
     "metadata": {},
     "output_type": "execute_result"
    }
   ],
   "source": [
    "train_raw_content[1].upper()"
   ]
  },
  {
   "cell_type": "code",
   "execution_count": 48,
   "metadata": {
    "_cell_guid": "39f25d08-a576-4535-8527-d25ddfedebd6",
    "_uuid": "51549a949259a1cc1330d513cbd3c60a8c5a371b",
    "collapsed": true,
    "deletable": true,
    "editable": true
   },
   "outputs": [],
   "source": [
    "cv = CountVectorizer(max_features=50000)"
   ]
  },
  {
   "cell_type": "code",
   "execution_count": null,
   "metadata": {
    "_cell_guid": "05342073-facd-4b75-8e94-0f3ad63f79f3",
    "_uuid": "d96e23b597cdbcc1d13f4fa7b2051c4515b1c2b4",
    "collapsed": false,
    "deletable": true,
    "editable": true
   },
   "outputs": [
    {
     "name": "stdout",
     "output_type": "stream",
     "text": [
      "CPU times: user 1min 37s, sys: 1.03 s, total: 1min 38s\n",
      "Wall time: 1min 38s\n"
     ]
    }
   ],
   "source": [
    "%%time\n",
    "X_train = cv.fit_transform(train_raw_content)"
   ]
  },
  {
   "cell_type": "code",
   "execution_count": null,
   "metadata": {
    "_cell_guid": "370036a0-1b59-46d3-b1d2-ba6f22400e7a",
    "_uuid": "aa5f327814464d01eb6addefd13e510e28a0bb67",
    "collapsed": true,
    "deletable": true,
    "editable": true
   },
   "outputs": [],
   "source": [
    "%%time\n",
    "X_test = cv.transform(test_raw_content)"
   ]
  },
  {
   "cell_type": "code",
   "execution_count": null,
   "metadata": {
    "_cell_guid": "873abee7-442d-49df-931e-7e59d0c990b9",
    "_uuid": "fc837f60e80e595839ff1cb0b0e97bb7c8232f17",
    "collapsed": true,
    "deletable": true,
    "editable": true
   },
   "outputs": [],
   "source": [
    "X_train.shape, X_test.shape"
   ]
  },
  {
   "cell_type": "markdown",
   "metadata": {
    "_cell_guid": "9927589b-52e8-4779-88e9-0d68e06d5233",
    "_uuid": "bb2ce6a072594f15d0e6165f6dc1b95a16f2e282",
    "deletable": true,
    "editable": true
   },
   "source": [
    "Read targets from file."
   ]
  },
  {
   "cell_type": "code",
   "execution_count": null,
   "metadata": {
    "_cell_guid": "4110961a-e9c7-49cb-8254-6a8ef3ebaf9d",
    "_uuid": "436102b8f71ce57efbe26a72ea32ae201629f8e0",
    "collapsed": true,
    "deletable": true,
    "editable": true
   },
   "outputs": [],
   "source": [
    "train_target = pd.read_csv(os.path.join(PATH_TO_DATA, 'train_log1p_recommends.csv'), \n",
    "                           index_col='id')"
   ]
  },
  {
   "cell_type": "code",
   "execution_count": null,
   "metadata": {
    "_cell_guid": "98d188dc-a207-46a2-a895-739712c778cd",
    "_uuid": "7a4d7f5b14479c2de41641c985a23bd74c468b83",
    "collapsed": true,
    "deletable": true,
    "editable": true
   },
   "outputs": [],
   "source": [
    "train_target.shape"
   ]
  },
  {
   "cell_type": "code",
   "execution_count": null,
   "metadata": {
    "_cell_guid": "a7c8da46-715f-4b8b-bbc9-50b158aab78d",
    "_uuid": "5077b30518fea62218c98a3a02b14dcac19112ce",
    "collapsed": true,
    "deletable": true,
    "editable": true
   },
   "outputs": [],
   "source": [
    "y_train = train_target['log_recommends'].values"
   ]
  },
  {
   "cell_type": "markdown",
   "metadata": {
    "_cell_guid": "baca6a37-5b08-4a8c-b405-783a1ce13d34",
    "_uuid": "3404a2c96aada745215025eaf04e5c510098d2e8",
    "deletable": true,
    "editable": true
   },
   "source": [
    "Make a 30%-holdout set. "
   ]
  },
  {
   "cell_type": "code",
   "execution_count": null,
   "metadata": {
    "_cell_guid": "819ccd8d-33c3-4714-8dbf-c886c019d2e2",
    "_uuid": "2958f3005056ce5d56911a5edc1d8486eba789a1",
    "collapsed": true,
    "deletable": true,
    "editable": true
   },
   "outputs": [],
   "source": [
    "train_part_size = int(0.7 * train_target.shape[0])\n",
    "X_train_part = X_train[:train_part_size, :]\n",
    "y_train_part = y_train[:train_part_size]\n",
    "X_valid =  X_train[train_part_size:, :]\n",
    "y_valid = y_train[train_part_size:]"
   ]
  },
  {
   "cell_type": "markdown",
   "metadata": {
    "_cell_guid": "49f43af6-0081-430c-ba4c-ed20e803553b",
    "_uuid": "3be18a01734b95c4ed79d45b8d60b04cd48a74e6",
    "deletable": true,
    "editable": true
   },
   "source": [
    "Now we are ready to fit a linear model."
   ]
  },
  {
   "cell_type": "code",
   "execution_count": null,
   "metadata": {
    "_cell_guid": "14957c67-8989-44ce-b411-051bfe49e2be",
    "_uuid": "49f162fa4c0c775db9cc9491ccc935d992709abe",
    "collapsed": true,
    "deletable": true,
    "editable": true
   },
   "outputs": [],
   "source": [
    "from sklearn.linear_model import Ridge"
   ]
  },
  {
   "cell_type": "code",
   "execution_count": null,
   "metadata": {
    "_cell_guid": "af0cf153-869a-44bc-90ab-d502f4d49dec",
    "_uuid": "63a64b164c1c323d9a71dd56beb5c55732a9df00",
    "collapsed": true,
    "deletable": true,
    "editable": true
   },
   "outputs": [],
   "source": [
    "ridge = Ridge(random_state=17)"
   ]
  },
  {
   "cell_type": "code",
   "execution_count": null,
   "metadata": {
    "_cell_guid": "106400fa-4ca2-4eae-966f-0398f2fc3e2a",
    "_uuid": "9dab2f98d5caddda453f80e4d1be835d4c542f8a",
    "collapsed": true,
    "deletable": true,
    "editable": true
   },
   "outputs": [],
   "source": [
    "%%time\n",
    "ridge.fit(X_train_part, y_train_part);"
   ]
  },
  {
   "cell_type": "code",
   "execution_count": null,
   "metadata": {
    "_cell_guid": "81d72242-e201-4a96-9572-6bf816d772ac",
    "_uuid": "95d7bf69d473fa33a5a688d3c22f14d0c1944cb7",
    "collapsed": true,
    "deletable": true,
    "editable": true
   },
   "outputs": [],
   "source": [
    "ridge_pred = ridge.predict(X_valid)"
   ]
  },
  {
   "cell_type": "markdown",
   "metadata": {
    "_cell_guid": "27841398-b988-4df1-8d5a-0d439fce7703",
    "_uuid": "21beec2c7186d8f6a93a0cdb3c95838d066292ec",
    "deletable": true,
    "editable": true
   },
   "source": [
    "Let's plot predictions and targets for the holdout set. Recall that these are #recommendations (= #claps) of Medium articles with the `np.log1p` transformation."
   ]
  },
  {
   "cell_type": "code",
   "execution_count": null,
   "metadata": {
    "_cell_guid": "a2487849-80f2-4786-97aa-172ddf2782e5",
    "_uuid": "ae68ecea606621471e7bfed5a68448b43b676e2e",
    "collapsed": true,
    "deletable": true,
    "editable": true
   },
   "outputs": [],
   "source": [
    "plt.hist(y_valid, bins=30, alpha=.5, color='red', label='true', range=(0,10));\n",
    "plt.hist(ridge_pred, bins=30, alpha=.5, color='green', label='pred', range=(0,10));\n",
    "plt.legend();"
   ]
  },
  {
   "cell_type": "markdown",
   "metadata": {
    "_cell_guid": "ca0efa6a-ebca-4496-8a2e-0d99f97b2d00",
    "_uuid": "e1a7b075e9cc292e6e9772f5bbfcc90dfb9186b1",
    "deletable": true,
    "editable": true
   },
   "source": [
    "As we can see, the prediction is far from perfect, and we get MAE $\\approx$ 1.3 that corresponds to $\\approx$ 2.7 error in #recommendations."
   ]
  },
  {
   "cell_type": "code",
   "execution_count": null,
   "metadata": {
    "_cell_guid": "58b14c8b-ba67-43b3-bb41-1fd3e1dd6071",
    "_uuid": "651bc8958bd1bd38a1c18c2444648e5e076e2cbf",
    "collapsed": true,
    "deletable": true,
    "editable": true
   },
   "outputs": [],
   "source": [
    "valid_mae = mean_absolute_error(y_valid, ridge_pred)\n",
    "valid_mae, np.expm1(valid_mae)"
   ]
  },
  {
   "cell_type": "markdown",
   "metadata": {
    "_cell_guid": "e1253943-fcd1-4df9-b740-cf2cf719b8ba",
    "_uuid": "41bf4f23f385fa1f677394828578cf1994d2d0e0",
    "deletable": true,
    "editable": true
   },
   "source": [
    "Finally, train the model on the full accessible training set, make predictions for the test set and form a submission file. "
   ]
  },
  {
   "cell_type": "code",
   "execution_count": null,
   "metadata": {
    "_cell_guid": "03ac15c3-7022-4156-ae35-e9cc38daffd4",
    "_uuid": "c0e28441751c62dd796b029c59dc3c88e6473c6c",
    "collapsed": true,
    "deletable": true,
    "editable": true
   },
   "outputs": [],
   "source": [
    "%%time\n",
    "ridge.fit(X_train, y_train);"
   ]
  },
  {
   "cell_type": "code",
   "execution_count": null,
   "metadata": {
    "_cell_guid": "84871bdd-9acc-418c-9e14-ba773962fda2",
    "_uuid": "0d6c45e96e16ce82c18d02fec143c0470536792d",
    "collapsed": true,
    "deletable": true,
    "editable": true
   },
   "outputs": [],
   "source": [
    "%%time\n",
    "ridge_test_pred = ridge.predict(X_test)"
   ]
  },
  {
   "cell_type": "code",
   "execution_count": null,
   "metadata": {
    "_cell_guid": "c9a2a2c7-e033-411e-921f-6ea814c0323e",
    "_uuid": "bdf4928c1ef8be25f50d4293849745353e4c5f90",
    "collapsed": true,
    "deletable": true,
    "editable": true
   },
   "outputs": [],
   "source": [
    "def write_submission_file(prediction, filename,\n",
    "    path_to_sample=os.path.join(PATH_TO_DATA, 'sample_submission.csv')):\n",
    "    submission = pd.read_csv(path_to_sample, index_col='id')\n",
    "    \n",
    "    submission['log_recommends'] = prediction\n",
    "    submission.to_csv(filename)"
   ]
  },
  {
   "cell_type": "code",
   "execution_count": null,
   "metadata": {
    "_cell_guid": "feda5e9a-09d5-4c11-8c56-29c2e99c1ec2",
    "_uuid": "80583fd5a7aadc53a5fce658404719805908539b",
    "collapsed": true,
    "deletable": true,
    "editable": true
   },
   "outputs": [],
   "source": [
    "write_submission_file(prediction=ridge_test_pred, \n",
    "                      filename='first_ridge.csv')"
   ]
  },
  {
   "cell_type": "markdown",
   "metadata": {
    "_cell_guid": "cf4bd078-fc3e-4e16-bdb7-95b40957a012",
    "_uuid": "bdfada7d6b984b1c89c0b68d1b95a135cb93aa2f",
    "deletable": true,
    "editable": true
   },
   "source": [
    "With this, you'll get 1.91185 on [public leaderboard](https://www.kaggle.com/c/how-good-is-your-medium-article/leaderboard). This is much higher than our validation MAE. This indicates that the target distribution in test set somewhat differs from that of the training set (recent Medium articles are more popular). This shouldn't confuse us as long as we see a correlation between local improvements and improvements on the leaderboard. "
   ]
  },
  {
   "cell_type": "markdown",
   "metadata": {
    "_cell_guid": "03175b91-3aca-495d-a03d-e81b8b8819da",
    "_uuid": "3a4ec3a8d30a0ac0d5cfe27d911ee742fccecbf2",
    "deletable": true,
    "editable": true
   },
   "source": [
    "Some ideas for improvement:\n",
    "- Engineer good features, this is the key to success. Some simple features will be based on publication time, authors, content length and so on\n",
    "- You may not ignore HTML and extract some features from there\n",
    "- You'd better experiment with your validation scheme. You should see a correlation between your local improvements and LB score\n",
    "- Try TF-IDF, ngrams, Word2Vec and GloVe embeddings\n",
    "- Try various NLP techniques like stemming and lemmatization\n",
    "- Tune hyperparameters. In our example, we've left only 50k features and used `C`=1 as a regularization parameter, this can be changed \n",
    "- SGD and Vowpal Wabbit will learn much faster\n",
    "- In our course, we don't cover neural nets. But it's not obliged to use GRUs or LSTMs in this competition. "
   ]
  }
 ],
 "metadata": {
  "kernelspec": {
   "display_name": "Python 3",
   "language": "python",
   "name": "python3"
  },
  "language_info": {
   "codemirror_mode": {
    "name": "ipython",
    "version": 2
   },
   "file_extension": ".py",
   "mimetype": "text/x-python",
   "name": "python",
   "nbconvert_exporter": "python",
   "pygments_lexer": "ipython2",
   "version": "2.7.12"
  }
 },
 "nbformat": 4,
 "nbformat_minor": 1
}
