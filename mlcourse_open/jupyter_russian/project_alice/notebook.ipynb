{
  "cells": [
    {
      "metadata": {
        "_cell_guid": "b1076dfc-b9ad-4769-8c92-a6c4dae69d19",
        "_uuid": "8f2839f25d086af736a60e9eeb907d3b93b6e0e5",
        "trusted": true
      },
      "cell_type": "code",
      "source": "# This Python 3 environment comes with many helpful analytics libraries installed\n# It is defined by the kaggle/python docker image: https://github.com/kaggle/docker-python\n# For example, here's several helpful packages to load in \n\nimport numpy as np # linear algebra\nimport pandas as pd # data processing, CSV file I/O (e.g. pd.read_csv)\n\n# Input data files are available in the \"../input/\" directory.\n# For example, running this (by clicking run or pressing Shift+Enter) will list the files in the input directory\n\nimport os\nprint(os.listdir(\"../input\"))\n\n# Any results you write to the current directory are saved as output.",
      "execution_count": 10,
      "outputs": [
        {
          "output_type": "stream",
          "text": "['train_sessions.csv', 'test_sessions.csv', 'train.zip', 'site_dic.pkl', 'sample_submission.csv']\n",
          "name": "stdout"
        }
      ]
    },
    {
      "metadata": {
        "_cell_guid": "1ca9f089-6eb3-48e7-be73-d7d41d97c6e3",
        "_uuid": "7e77be8c0ca6e6b71b1bc4698dec2af68c04244d"
      },
      "cell_type": "markdown",
      "source": "## Tools"
    },
    {
      "metadata": {
        "_kg_hide-input": false,
        "_cell_guid": "79c7e3d0-c299-4dcb-8224-4455121ee9b0",
        "collapsed": true,
        "_uuid": "d629ff2d2480ee46fbb7e2d37f6b5fab8052498a",
        "trusted": true
      },
      "cell_type": "code",
      "source": "import pandas as pd\nimport numpy as np\nimport re\n\ndef write_to_submission_file(predicted_labels, out_file, target='target', index_label='session_id'):\n    predicted_df = pd.DataFrame(predicted_labels,\n                                index = np.arange(1, predicted_labels.shape[0] + 1),\n                                columns=[target])\n\n    predicted_df.to_csv(out_file, index_label=index_label)\n\n\ndef get_domen(url):\n    if re.search('[a-zA-Z]', url):\n        return url.split('.')[-1]\n    return 'ip'\n\n\ndef get_part_of_day(x):\n    x = int(x.hour)\n    if (0 <= x < 12):\n        return 0\n    elif (12 <= x < 15):\n        return 1\n    elif (15 <= x < 18):\n       return 2\n    elif (18 <= x < 21):\n       return 3\n    else:\n       return 4\n\n\ndef one_site_mean_duration(x):\n    site_times = [datetime for datetime in list(x) if not pd.isnull(datetime)]\n    durations = [site_times[i] - site_times[i-1] for i in range(1, len(site_times))]\n    durations = list(map(lambda x: x.seconds, durations))\n\n    if (len(durations) > 0):\n        return np.mean(durations)\n\n    return 0\n\n\ndef count_alice_top_sites(top_sites, x):\n    x_list = list(x)\n    x_list = [site for site in x_list if site in top_sites]\n\n    return len(x_list)",
      "execution_count": 11,
      "outputs": []
    },
    {
      "metadata": {
        "_cell_guid": "bf4164e7-5353-49d9-a361-a1d7c0c95460",
        "_uuid": "f57c1ab384b78e12fbec052918b19a89429abda9"
      },
      "cell_type": "markdown",
      "source": "## Preprocessing"
    },
    {
      "metadata": {
        "_cell_guid": "4bc4a7d6-7595-49f0-8798-17b8d1cadb09",
        "_uuid": "018c4cd16eca07f40a4b8b59952a5c47ba669b51",
        "trusted": true,
        "collapsed": true
      },
      "cell_type": "code",
      "source": "import pickle\nimport pandas as pd\nimport numpy as np\nfrom scipy.sparse import csr_matrix\nfrom scipy.sparse import hstack\nfrom sklearn.feature_extraction.text import CountVectorizer\nfrom sklearn.feature_extraction.text import TfidfVectorizer\nfrom sklearn.preprocessing import StandardScaler\nfrom sklearn.decomposition import TruncatedSVD\nfrom sklearn.neighbors import KNeighborsClassifier\nfrom sklearn.ensemble import RandomForestClassifier\n\n\ndef base_preprocessing(train, test):\n\n    times = ['time%s' % i for i in range(1, 11)]\n    train[times] = train[times].apply(pd.to_datetime)\n    test[times] = test[times].apply(pd.to_datetime)\n\n    train = train.sort_values(by='time1')\n\n    sites = ['site%s' % i for i in range(1, 11)]\n    train[sites] = train[sites].fillna(0).astype('int')\n    test[sites] = test[sites].fillna(0).astype('int')\n\n    X_train = train.iloc[:, :-1]\n    y_train = train.iloc[:, -1]\n\n    return X_train, test, y_train\n\ndef main_preprocessing(X_train, X_test, y_train):\n    '''\n    Sites TfidfVectorizer + Domens CountVectorizer + Start Hour (OHE) + Start Session Time (yyyy/mm) (OHE/OHE) + Start Part Of Day (OHE) + Start Day Of Week (OHE)\n    + Session Duration (seconds) + Mean Time On One Site (Seconds) + Count Alice Top Sites(10) + Start Day Of Year (OHE)\n\n    '''\n    with open(r'../input/site_dic.pkl', 'rb') as input_file:\n        site_dict = pickle.load(input_file)\n\n    # Sites\n    sites = ['site%s' % i for i in range(1, 11)]\n    X_train_sites = X_train[sites].apply(lambda x: ' '.join(map(str, x.values)), axis=1)\n    X_test_sites = X_test[sites].apply(lambda x: ' '.join(map(str, x.values)), axis=1)\n\n    sites_vectorizer = TfidfVectorizer(max_features=10000, max_df=0.1, ngram_range=(1, 2)).fit(X_train_sites)\n    sites_train = sites_vectorizer.transform(X_train_sites)\n    sites_test = sites_vectorizer.transform(X_test_sites)\n\n\n    # Domens\n    invert_site_dict = {v: k for k, v in site_dict.items()}\n    sites = ['site%s' % i for i in range(1, 11)]\n    X_train_domens = X_train[sites].applymap(lambda x: get_domen(invert_site_dict[x]) if x in invert_site_dict else 'nan')\n    X_test_domens = X_test[sites].applymap(lambda x: get_domen(invert_site_dict[x]) if x in invert_site_dict else 'nan')\n\n    X_train_domens = X_train_domens[sites].apply(lambda x: ' '.join(map(str, x.values)), axis=1)\n    X_test_domens = X_test_domens[sites].apply(lambda x: ' '.join(map(str, x.values)), axis=1)\n\n    domens_vectorizer = CountVectorizer(max_df=0.1, min_df=0.02).fit(X_train_domens)\n    domens_train = domens_vectorizer.transform(X_train_domens)\n    domens_test = domens_vectorizer.transform(X_test_domens)\n\n\n    # Start Hour (OHE)\n    start_hour_train_catseries = X_train['time1'].apply(lambda x: x.hour).astype('category')\n    start_hour_test_catseries = X_test['time1'].apply(lambda x: x.hour).astype('category', categories=list(start_hour_train_catseries.cat.categories))\n\n    start_hour_train = pd.get_dummies(start_hour_train_catseries)\n    start_hour_test = pd.get_dummies(start_hour_test_catseries)\n\n\n    # Start Session Time (yyyy/mm) (OHE/OHE)\n    start_year_train_catseries = X_train['time1'].apply(lambda x: x.year).astype('category')\n    start_year_test_catseries = X_test['time1'].apply(lambda x: x.year).astype('category', categories=list(start_year_train_catseries.cat.categories))\n\n    start_year_train = pd.get_dummies(start_year_train_catseries)\n    start_year_test = pd.get_dummies(start_year_test_catseries)\n\n\n    start_month_train_catseries = X_train['time1'].apply(lambda x: x.month).astype('category')\n    start_month_test_catseries = X_test['time1'].apply(lambda x: x.month).astype('category', categories=list(start_month_train_catseries.cat.categories))\n\n    start_month_train = pd.get_dummies(start_month_train_catseries)\n    start_month_test = pd.get_dummies(start_month_test_catseries)\n\n\n    # Start Part Of Day (OHE)\n    part_of_day_train_catseries = X_train['time1'].apply(get_part_of_day).astype('category')\n    part_of_day_test_catseries = X_test['time1'].apply(get_part_of_day).astype('category', categories=list(part_of_day_train_catseries.cat.categories))\n\n    part_of_day_train = pd.get_dummies(part_of_day_train_catseries)\n    part_of_day_test = pd.get_dummies(part_of_day_test_catseries)\n\n\n    # Start Day Of Week (OHE)\n    day_of_week_train_catseries = X_train['time1'].apply(lambda x: x.dayofweek).astype('category')\n    day_of_week_test_catseries = X_test['time1'].apply(lambda x: x.dayofweek).astype('category', categories=list(day_of_week_train_catseries.cat.categories))\n\n    day_of_week_train = pd.get_dummies(day_of_week_train_catseries)\n    day_of_week_test = pd.get_dummies(day_of_week_test_catseries)\n\n\n    # Session Duration (Seconds)\n    times = ['time%s' % i for i in range(1, 11)]\n    X_train_times = X_train[times]\n    X_test_times = X_test[times]\n\n    duration_train = pd.DataFrame((X_train_times.max(axis=1) - X_train_times.min(axis=1)).dt.total_seconds())\n    duration_test = pd.DataFrame((X_test_times.max(axis=1) - X_test_times.min(axis=1)).dt.total_seconds())\n\n    scaler_duration = StandardScaler().fit(duration_train)\n\n    duration_train = scaler_duration.transform(duration_train)\n    duration_test = scaler_duration.transform(duration_test)\n\n\n    # Mean Time On One Site (Seconds)\n    times = ['time%s' % i for i in range(1, 11)]\n    X_train_times = X_train[times]\n    X_test_times = X_test[times]\n\n    one_site_mean_duration_train = pd.DataFrame(X_train_times.apply(one_site_mean_duration, axis=1))\n    one_site_mean_duration_test = pd.DataFrame(X_test_times.apply(one_site_mean_duration, axis=1))\n\n    scaler_mean_duration = StandardScaler().fit(one_site_mean_duration_train)\n\n    one_site_mean_duration_train = scaler_mean_duration.transform(one_site_mean_duration_train)\n    one_site_mean_duration_test = scaler_mean_duration.transform(one_site_mean_duration_test)\n\n\n    # Count Alice Top Sites(50)\n    sites = ['site%s' % i for i in range(1, 11)]\n    X_train_sites_alice = X_train.iloc[y_train[y_train == 1].index, :][sites]\n    alice_sites = X_train_sites_alice.stack().value_counts()\n    alice_top_sites = list(alice_sites.drop(alice_sites.index[0]))[:10]\n\n    alice_sites_train = pd.DataFrame(X_train[sites].apply((lambda x: count_alice_top_sites(alice_top_sites, x)), axis=1))\n    alice_sites_test = pd.DataFrame(X_test[sites].apply((lambda x: count_alice_top_sites(alice_top_sites, x)), axis=1))\n\n    scaler_top_sites = StandardScaler().fit(alice_sites_train)\n\n    alice_sites_train = scaler_top_sites.transform(alice_sites_train)\n    alice_sites_test = scaler_top_sites.transform(alice_sites_test)\n\n\n    # Start Day Of Year (OHE)\n    day_of_year_train_catseries = X_train['time1'].apply(lambda x: x.dayofyear).astype('category')\n    day_of_year_test_catseries = X_test['time1'].apply(lambda x: x.dayofyear).astype('category', categories=list(day_of_year_train_catseries.cat.categories))\n\n    day_of_year_train = pd.get_dummies(day_of_year_train_catseries)\n    day_of_year_test = pd.get_dummies(day_of_year_test_catseries)\n\n\n    # Prefinal concat\n    X_train = csr_matrix(hstack([sites_train, domens_train, start_hour_train, start_year_train, start_month_train, part_of_day_train, day_of_week_train, duration_train, one_site_mean_duration_train, alice_sites_train, day_of_year_train]))\n    X_test = csr_matrix(hstack([sites_test, domens_test, start_hour_test, start_year_test, start_month_test, part_of_day_test, day_of_week_test, duration_test, one_site_mean_duration_test, alice_sites_test, day_of_year_test]))\n\n\n    return X_train, X_test",
      "execution_count": 12,
      "outputs": []
    },
    {
      "metadata": {
        "_cell_guid": "c3c30a35-b1cb-4118-841e-e0229236a72c",
        "_uuid": "b1e20daa9b5cdf075c2df0a02008d1a4fc08ba26"
      },
      "cell_type": "markdown",
      "source": "## MAIN"
    },
    {
      "metadata": {
        "_cell_guid": "1b84d5cb-7618-4deb-88ff-19257c3b69b5",
        "_uuid": "61cbe951a4e6c1f4b2c5a3d1d9bc105dd9913391",
        "trusted": true
      },
      "cell_type": "code",
      "source": "import warnings\nimport pandas as pd\nimport numpy as np\nwarnings.filterwarnings('ignore')\n\nfrom sklearn.metrics import roc_auc_score\nfrom sklearn.model_selection import cross_val_score\nfrom sklearn.model_selection import GridSearchCV, StratifiedKFold\nfrom sklearn.linear_model import LogisticRegression\nfrom scipy import io\n\ntrain = pd.read_csv('../input/train_sessions.csv', index_col='session_id')\ntest = pd.read_csv('../input/test_sessions.csv', index_col='session_id')\n\nX_train, X_test, y_train = base_preprocessing(train, test)\nX_train, X_test = main_preprocessing(X_train, X_test, y_train)\n\nfrom imblearn.over_sampling import SMOTE\nsmote=SMOTE(kind='borderline1',random_state=17)\nX_train,y_train = smote.fit_sample(X_train,y_train)\n#X_train, X_test = io.mmread('X_train.mtx'), io.mmread('X_test.mtx')\n\nfrom imblearn.over_sampling import RandomOverSampler\nros = RandomOverSampler(random_state=17)\n\nX_train, y_train = ros.fit_sample(X_train, y_train)\n\n    # from evolutionary_search import EvolutionaryAlgorithmSearchCV\n    # from sklearn.model_selection import ShuffleSplit\n    #\n    # lr = LogisticRegression(n_jobs=-1)\n    # params = {'penalty': ['l2'],\n    #           'C': [0.0001, 0.0005, 0.001, 0.005, 0.01, 0.05, 0.1, 0.5, 1] + list(range(2, 100, 5)) + [1000],\n    #           'class_weight': ['balanced'],\n    #           'solver': ['newton-cg', 'lbfgs', 'sag']}\n    # cv = ShuffleSplit(test_size=0.30, n_splits=1)\n    #\n    # evo = EvolutionaryAlgorithmSearchCV(estimator=lr,\n    #                                     params=params,\n    #                                     scoring='roc_auc',\n    #                                     cv=cv,\n    #                                     verbose=True,\n    #                                     population_size=100,\n    #                                     gene_mutation_prob=0.10,\n    #                                     gene_crossover_prob=0.5,\n    #                                     tournament_size=5,\n    #                                     generations_number=10)\n    # evo.fit(X_train, y_train)\n\n    #{'penalty': 'l2', 'max_iter': 100, 'solver': 'sag', 'class_weight': 'balanced', 'C': 37} with fitness: 0.9947851116234038\n\n\n\n\n    #||||||||||||||||||||||||||||||||||||||||||||||||||||||||||||||||||||\n\n    # #HOLD OUT\n    # train_len = int(0.9 * X_train.shape[0])\n    # X_for_train = X_train[:train_len, :]\n    # X_for_valid = X_train[train_len:, :]\n    # y_for_train = y_train[:train_len]\n    # y_for_valid = y_train[train_len:]\n    #\n    # logit = LogisticRegression(n_jobs=-1, random_state=17)\n    # logit.fit(X_for_train, y_for_train)\n    #\n    # valid_pred = logit.predict_proba(X_for_valid)[:, 1]\n    #\n    # print(roc_auc_score(y_for_valid, valid_pred))\n\n\n\n    # # VALIDATION CURVES\n    # for i in [10, 20, 50, 100, 200, 500, 700, 1000, 1500, 2000]:\n    #     X_train1, X_test1 = variant_5_preprocessing(X_train, X_test, y_train, i)\n    #     train_len = int(0.9 * X_train1.shape[0])\n    #     X_for_train = X_train1[:train_len, :]\n    #     X_for_valid = X_train1[train_len:, :]\n    #     y_for_train = y_train[:train_len]\n    #     y_for_valid = y_train[train_len:]\n    #\n    #     logit = LogisticRegression(n_jobs=-1, random_state=17)\n    #     logit.fit(X_for_train, y_for_train)\n    #\n    #     valid_pred = logit.predict_proba(X_for_valid)[:, 1]\n    #\n    #     print('param={0}, roc_auc={1}'.format(i, roc_auc_score(y_for_valid, valid_pred)))\n\n\n    # # CROSS-VALIDATION\n    # log_regressor = LogisticRegression(random_state=17)\n    # skf = StratifiedKFold(n_splits=3, shuffle=True, random_state=17)\n    #\n    # cross_val_scores = np.mean(cross_val_score(log_regressor, X_train, y_train, cv=skf, scoring='roc_auc', n_jobs=-1))\n\n    #SUBMIT\nfrom sklearn.linear_model import LogisticRegression\nlogit = LogisticRegression(n_jobs=-1)\nlogit.fit(X_train, y_train)\n\npredictions = logit.predict_proba(X_test)[:, 1]\n\nwrite_to_submission_file(predictions, 'submission_1.csv')",
      "execution_count": null,
      "outputs": []
    },
    {
      "metadata": {
        "trusted": true,
        "collapsed": true,
        "_uuid": "47a9e97e480127baa9b3b17725126a028b2aeee7"
      },
      "cell_type": "code",
      "source": "write_to_submission_file(predictions, '../input/submission_1.csv')",
      "execution_count": null,
      "outputs": []
    },
    {
      "metadata": {
        "_cell_guid": "8b166d9f-d299-4bc6-82b1-2c61f3b3b671",
        "_uuid": "525eb4bf49382d77dd888007bc9fb2969f06581c",
        "trusted": false,
        "collapsed": true
      },
      "cell_type": "code",
      "source": "from sklearn.grid_search import GridSearchCV\nfrom sklearn.model_selection import ShuffleSplit\nlr = LogisticRegression(n_jobs=-1)\nparams = {'penalty': ['l2'],\n          'C': np.logspace(-3,10,20),\n          'class_weight': ['balanced']}\ngcv = GridSearchCV(estimator=lr,\n                   param_grid=params,\n                   scoring='roc_auc',\n                   cv=3,\n                   verbose=True)\ngcv.fit(X_train, y_train)\nprint (gsv.best_params_,gsv.best_score_)",
      "execution_count": null,
      "outputs": []
    }
  ],
  "metadata": {
    "language_info": {
      "name": "python",
      "version": "3.6.4",
      "mimetype": "text/x-python",
      "codemirror_mode": {
        "name": "ipython",
        "version": 3
      },
      "pygments_lexer": "ipython3",
      "nbconvert_exporter": "python",
      "file_extension": ".py"
    },
    "kernelspec": {
      "display_name": "Python 3",
      "language": "python",
      "name": "python3"
    }
  },
  "nbformat": 4,
  "nbformat_minor": 1
}